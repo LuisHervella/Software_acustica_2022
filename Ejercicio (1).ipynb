{
 "cells": [
  {
   "cell_type": "markdown",
   "id": "e1ed4784",
   "metadata": {},
   "source": [
    "# Problema acoplado fluido/estructura\n",
    "\n",
    "### Fluido \n",
    "Escrito en función de su resion. \n",
    "Dominio: cuadrado $1\\times1 $. \n",
    "Condiciones de frontera: en las paredes laterales e inferior, cavidad rígida (Neumann homogéneo)\n",
    "\n",
    "\n",
    "### Sólido\n",
    "Escrito en desplazamiento. \n",
    "Dominio: tapa del fluido de grosor $0.1$. \n",
    "Condiciones de frontera: empotrado en los $2$ laterales. Soporta una carga en la frontera superior según la función $T=(0,-1)$."
   ]
  },
  {
   "cell_type": "markdown",
   "id": "e6595002",
   "metadata": {},
   "source": [
    "## Formulación Fuerte\n",
    "\n",
    "Las ecuaciones de un problema fluido/estructura en el que intervienen una estructura de un sólido elástico $\\Omega_S$ y un  dominio fluido $\\Omega_F$ se escriben como\n",
    "\n",
    "\\begin{align}\n",
    "\\label{ftut-elast-varform-equilibrium}\\tag{1}\n",
    "&-\\omega^2\\rho_S\\boldsymbol{u}_S -\\boldsymbol{\\nabla}\\cdot\\boldsymbol{\\sigma} = 0\\hbox{ en }\\Omega_S,\\\\\n",
    "&-\\omega^2\\frac{1}{\\rho_Fc_F^2}p_F -\\frac{1}{\\rho_F}\\Delta p_F = 0\\hbox{ en }\\Omega_F,\n",
    "\\label{ftut-fluid-varform-equilibrium}\\tag{2}\n",
    "\\end{align}\n",
    "\n",
    "donde $\\sigma$ es el tensor de tensiones, $c$ es la velocidad del sonido en el fluido, $u_S$ es el campo de desplazamientos en el sólido, $p_F$ es la presión acústica en el fluido, $\\rho_S$ y $\\rho_F$ son las densidades de masa del sólido y del fluido, respectivamente, y $\\omega$ es la frecuencia angular."
   ]
  },
  {
   "cell_type": "markdown",
   "id": "257bd6a4",
   "metadata": {},
   "source": [
    "Las condiciones de contorno son:\n",
    "\\begin{align}\n",
    "& \\boldsymbol{u}_S = 0 \\quad \\hbox{ en } \\Gamma_D = \\{(x,y) \\in \\mathbb{R}^2: x=0 \\hbox{ o } x=1,\\ 1<y<1.1 \\},\\\\\n",
    "& \\boldsymbol{\\sigma}(\\boldsymbol{u}_S) \\cdot \\mathbf{n}_S = \\boldsymbol{T} \\quad \\hbox{ en } \\Gamma_T=\\{(x,y) \\in \\mathbb{R}^2:0<x<1,y=1.1\\}, \\\\\n",
    "& \\nabla p_{F}\\cdot \\mathbf{n}=0 \\quad \\hbox{ en } \\Gamma_N = \\{(x,y) \\in \\mathbb{R}^2: x=0 \\hbox{ o } x=1,\\  0<y<1\\} \\cup {(x,y) \\in \\mathbb{R}^2:0<x<1,\\ y=0}\n",
    "\\end{align}\n",
    "\n",
    "Las condiciones de acoplamiento son:\n",
    "\\begin{align}\n",
    "\\frac{1}{\\omega^2\\rho}\\nabla p_{F}\\cdot \\mathbf{n} = \\boldsymbol{u}_S\\cdot \\mathbf{n},\\\\\n",
    "\\boldsymbol{\\sigma}(\\boldsymbol{u}_S) \\cdot \\mathbf{n} = -p_{F} \\ \\mathbf{n},\n",
    "\\end{align}\n",
    "en la frontera $\\Gamma_I=\\partial\\Omega_S\\cap\\partial\\Omega_F$ \n"
   ]
  },
  {
   "cell_type": "markdown",
   "id": "2e247ec3",
   "metadata": {},
   "source": [
    "## Formulación Variacional\n",
    "\n",
    "Multiplicamos las ecuaciones por funciones test e integramos en el dominio correspondiente:\n",
    "##### Sólido\n",
    "\\begin{multline}\n",
    "-\\omega^2 \\int_{\\Omega_S} \\rho_S\\boldsymbol{u}_S\\cdot \\boldsymbol{v}_S\\ \\mathrm{d}\\boldsymbol{x}\n",
    "- \\int_{\\Omega_S} \\boldsymbol{\\nabla}\\cdot\\boldsymbol{\\sigma}(\\boldsymbol{u}_S) \\boldsymbol{v}_S\\ \\mathrm{d}\\boldsymbol{x} = 0\n",
    "\\end{multline}\n",
    "##### Fluido\n",
    "\\begin{multline}\n",
    "-\\omega^2 \\int_{\\Omega_F} \\frac{1}{\\rho_F c^2}p_F q_F\\ \\mathrm{d}\\boldsymbol{x}\n",
    "- \\int_{\\Omega_F} \\frac{1}{\\rho_F}\\Delta p_F q_F\\ \\mathrm{d}\\boldsymbol{x} = 0\n",
    "\\end{multline}\n",
    "\n",
    "Aplicamos la fórmula de Green:\n",
    "##### Sólido\n",
    "\\begin{multline}\n",
    "-\\omega^2 \\int_{\\Omega_S} \\rho_S\\boldsymbol{u}_S\\cdot \\boldsymbol{v}_S\\ \\mathrm{d}\\boldsymbol{x}\n",
    "+ \\int_{\\Omega_S} \\boldsymbol{\\sigma}(\\boldsymbol{u}_S) : \\boldsymbol{\\epsilon}(\\boldsymbol{v}_S)\\ \\mathrm{d}\\boldsymbol{x} \n",
    "- \\int_{\\partial \\Omega_S} \\boldsymbol{\\sigma}(\\boldsymbol{u}_S) \\cdot \\mathbf{n}_S \\boldsymbol{v}_S \\ \\mathrm{d}\\boldsymbol{S} = 0\n",
    "\\end{multline}\n",
    "##### Fluido\n",
    "\\begin{multline}\n",
    "-\\omega^2 \\int_{\\Omega_F} \\frac{1}{\\rho_F c^2}p_F q_F\\ \\mathrm{d}\\boldsymbol{x}\n",
    "+ \\int_{\\Omega_F} \\frac{1}{\\rho_F}\\nabla p_F\\cdot \\nabla q_F \\ \\mathrm{d}\\boldsymbol{x}\n",
    "- \\int_{\\partial \\Omega_F} \\frac{1}{\\rho_F} \\nabla p_F\\cdot \\mathbf{n} q_F \\ \\mathrm{d}\\boldsymbol{S}=0\n",
    "\\end{multline}\n",
    "\n",
    "Separamos las integrales de superficie en las diferentes fronteras consideradas y aplicamos las condiciones de contorno y las de acoplamiento:\n",
    "##### Sólido\n",
    "$$\n",
    "\\int_{\\partial \\Omega_S} = \\int_{\\Gamma_D}   + \\int_{\\Gamma_T} + \\int_{\\Gamma_I}\n",
    "$$\n",
    "\n",
    "\\begin{align}\n",
    "\\int_{\\Gamma_D} & \\boldsymbol{\\sigma}(\\boldsymbol{u}_S) \\cdot \\mathbf{n} \\boldsymbol{v}_S \\ \\mathrm{d}\\boldsymbol{S} = 0,\\\\\n",
    "\\int_{\\Gamma_T} & \\boldsymbol{\\sigma}(\\boldsymbol{u}_S) \\cdot \\mathbf{n} \\boldsymbol{v}_S \\ \\mathrm{d}\\boldsymbol{S} = \\int_{\\Gamma_T} \\boldsymbol{T} \\cdot \\boldsymbol{v}_S \\ \\mathrm{d}\\boldsymbol{S}, \\\\\n",
    "\\int_{\\Gamma_I} & \\boldsymbol{\\sigma}(\\boldsymbol{u}_S) \\cdot (-\\mathbf{n}) \\boldsymbol{v}_S \\ \\mathrm{d}\\boldsymbol{S} = \\int_{\\Gamma_I} p_F \\boldsymbol{v}_S \\cdot \\mathbf{n} \\ \\mathrm{d}\\boldsymbol{S}\n",
    "\\end{align}\n",
    "\n",
    "##### Fluido\n",
    "$$\n",
    "\\int_{\\partial \\Omega_F} = \\int_{\\Gamma_N} + \\int_{\\Gamma_I}\n",
    "$$\n",
    "\n",
    "\\begin{align}\n",
    "\\int_{\\Gamma_N} & \\frac{1}{\\rho_F} \\nabla p_F\\cdot \\mathbf{n} q_F \\ \\mathrm{d}\\boldsymbol{S} = 0 ,\\\\ \n",
    "\\int_{\\Gamma_I} & \\frac{1}{\\rho_F} \\nabla p_F\\cdot \\mathbf{n} q_F \\ \\mathrm{d}\\boldsymbol{S} = \\int_{\\Gamma_I} \\omega^2 \\boldsymbol{u}_S \\cdot \\mathbf{n} q \\ \\mathrm{d}\\boldsymbol{S}\n",
    "\\end{align}\n",
    "\n",
    "\n",
    "\n",
    "Por último juntamos ambas ecuaciones en una sola expresión:\n",
    "\\begin{multline}\n",
    "\\int_{\\Omega_S} \\boldsymbol{\\sigma}(\\boldsymbol{u}_S) : \\boldsymbol{\\epsilon}(\\boldsymbol{v}_S)\\ \\mathrm{d}\\boldsymbol{x} \n",
    "+\\int_{\\Omega_F} \\frac{1}{\\rho_F}\\nabla p_F\\cdot \\nabla q_F \\ \\mathrm{d}\\boldsymbol{x}\n",
    "-\\omega^2 \\left[ \\int_{\\Omega_S} \\rho_S\\boldsymbol{u}_S\\cdot \\boldsymbol{v}_S\\ \\mathrm{d}\\boldsymbol{x} + \\int_{\\Omega_F} \\frac{1}{\\rho_F c^2}p_F q_F\\ \\mathrm{d}\\boldsymbol{x}   \\right] \\\\\n",
    "- \\int_{\\Gamma_I} p_F \\boldsymbol{v}_S \\cdot \\mathbf{n} \\ \\mathrm{d}\\boldsymbol{S}\n",
    "- \\int_{\\Gamma_I} \\omega^2 \\boldsymbol{u}_S \\cdot \\mathbf{n} q_F \\ \\mathrm{d}\\boldsymbol{S}\n",
    "= \\int_{\\Gamma_T} \\boldsymbol{T} \\cdot \\boldsymbol{v}_S \\ \\mathrm{d}\\boldsymbol{S}\n",
    "\\label{ftut-elast-varform-sigma_inner_gradv}\\tag{8}\n",
    "\\end{multline}\n",
    "\n",
    "para todo $(q_F,\\boldsymbol{v}_S)\\in \\hat{V}$\n",
    "\n",
    "\n",
    "La expresión resumida para la formulación variacional es, encontrar $u$ y $p$ en el espacio funcional $\\hat{V}$ tal que \n",
    "\n",
    "\\begin{equation}\n",
    "a((p_F,\\boldsymbol{u}_S),(q_F,\\boldsymbol{v}_S)) = L((q_F,\\boldsymbol{v}_S))\\quad\\forall (q_F,\\boldsymbol{v}_S)\\in\\hat{V},\n",
    "\\end{equation}\n",
    "\n",
    "donde\n",
    "\n",
    "\\begin{align}\n",
    "a((p_F,\\boldsymbol{u}_S),(q_F,\\boldsymbol{v}_S)) =&\n",
    "\\int_{\\Omega_S} \\boldsymbol{\\sigma}(\\boldsymbol{u}_S) : \\boldsymbol{\\epsilon}(\\boldsymbol{v}_S)\\ \\mathrm{d}\\boldsymbol{x} \n",
    " + \\int_{\\Omega_F} \\frac{1}{\\rho_F}\\nabla p_F\\cdot \\nabla q_F \\mathrm{d}\\boldsymbol{x} \\\\\n",
    " & -\\omega^2 \\left[\\int_{\\Omega_S} \\rho_S\\boldsymbol{u}_S\\cdot \\boldsymbol{v}_S\\ \\mathrm{d}\\boldsymbol{x}\n",
    " +\\int_{\\Omega_F} \\frac{1}{\\rho_F c^2}p_F q_F\\ \\mathrm{d}\\boldsymbol{x} \\right] \\\\\n",
    " & -\\int_{\\Gamma_I}p_{F}\\boldsymbol{v}_S \\cdot \\mathbf{n} \\ \\mathrm{d}\\boldsymbol{S} \n",
    " -\\omega^2\\int_{\\Gamma_I}q_{F}\\boldsymbol{u}_S\\cdot\\mathbf{n}\\ \\mathrm{d}\\boldsymbol{S}\n",
    "\\end{align}\n",
    "\n",
    "y \n",
    " \n",
    "\\begin{align}\n",
    "L((q_F,\\boldsymbol{v}_S)) = \\int_{\\Gamma_T} \\boldsymbol{T}\\cdot \\boldsymbol{v}_S\\ \\mathrm{d}\\boldsymbol{s}\n",
    "\\end{align}\n",
    "\n"
   ]
  },
  {
   "cell_type": "markdown",
   "id": "34e6fcea",
   "metadata": {},
   "source": [
    "### Importamos los paquetes"
   ]
  },
  {
   "cell_type": "code",
   "execution_count": null,
   "id": "b98b8fd2",
   "metadata": {},
   "outputs": [],
   "source": [
    "import numpy as np\n",
    "from dolfin import *\n",
    "from mshr import *\n",
    "import matplotlib.pyplot as plt\n",
    "%matplotlib inline"
   ]
  },
  {
   "cell_type": "markdown",
   "id": "2e1fedc5",
   "metadata": {},
   "source": [
    "### Generamos la malla"
   ]
  },
  {
   "cell_type": "code",
   "execution_count": null,
   "id": "f7c19fc2",
   "metadata": {},
   "outputs": [],
   "source": [
    "# Creamos el dominio total (el dominio del fluido será un subdominio del total)\n",
    "length = 1.; width = 1.1\n",
    "length_fluid = 1.; width_fluid = 1.\n",
    "\n",
    "# Malla\n",
    "N = 8 \n",
    "mesh = RectangleMesh(Point(0, 0), Point(length, width), N*10, N*10, \"right/left\")\n",
    "\n",
    "# Espacio de funciones\n",
    "P2 = VectorElement(\"Lagrange\", mesh.ufl_cell(), 2)\n",
    "P1 = FiniteElement(\"Lagrange\", mesh.ufl_cell(), 1)\n",
    "W = FunctionSpace(mesh, MixedElement([P2, P1]))\n"
   ]
  },
  {
   "cell_type": "markdown",
   "id": "d08ae6bd",
   "metadata": {},
   "source": [
    "### Dividimos dominios"
   ]
  },
  {
   "cell_type": "code",
   "execution_count": null,
   "id": "12ff2c9f",
   "metadata": {},
   "outputs": [],
   "source": [
    "# Separamos los dominios fluido-sólido\n",
    "tol = 1e-10\n",
    "fluid_domain = CompiledSubDomain('(x[0] < L0 + tol) and (x[1] < L1 + tol)', L0=length_fluid, L1=width_fluid, tol=tol)\n",
    "\n",
    "domain_markers = MeshFunction('size_t', mesh, mesh.topology().dim())\n",
    "domain_markers.set_all(1) # dominio sólido\n",
    "fluid_domain.mark(domain_markers, 2)  # dominio fluido\n",
    "\n",
    "dx = Measure('dx', domain=mesh, subdomain_data=domain_markers)\n",
    "\n",
    "plot(domain_markers)\n",
    "plt.show()"
   ]
  },
  {
   "cell_type": "markdown",
   "id": "d827a5b5",
   "metadata": {},
   "source": [
    "### Fronteras"
   ]
  },
  {
   "cell_type": "code",
   "execution_count": null,
   "id": "dc216d29",
   "metadata": {},
   "outputs": [],
   "source": [
    "tol = 1e-5\n",
    "# Frontera empotrada\n",
    "clamped_boundary = CompiledSubDomain('((on_boundary and near(x[0],L0,tol) and (x[1]>Lf-tol)) or (on_boundary and near(x[0],L,tol) and (x[1]>Lf-tol)))', L0=0., L=length, Lf=width_fluid, tol=tol)\n",
    "\n",
    "# Frontera con compresión (T=(0,-1))\n",
    "traction_boundary = CompiledSubDomain('on_boundary and near(x[1],L,tol)', L=width, tol=tol)\n",
    "\n",
    "# Frontera de acoplamiento\n",
    "coupling_boundary = CompiledSubDomain('near(x[1],L,tol)',L=width_fluid, tol=tol)\n",
    "\n",
    "boundary_markers = MeshFunction('size_t', mesh, mesh.topology().dim() - 1)\n",
    "boundary_markers.set_all(0)\n",
    "clamped_boundary.mark(boundary_markers, 1) \n",
    "traction_boundary.mark(boundary_markers, 2)\n",
    "coupling_boundary.mark(boundary_markers, 3)\n",
    "\n",
    "ds = Measure('ds', domain=mesh, subdomain_data=boundary_markers)\n",
    "dS = Measure('dS', domain=mesh, subdomain_data=boundary_markers)"
   ]
  },
  {
   "cell_type": "markdown",
   "id": "36fe90ef",
   "metadata": {},
   "source": [
    "### Problema variacional"
   ]
  },
  {
   "cell_type": "code",
   "execution_count": null,
   "id": "58bcaaa8",
   "metadata": {},
   "outputs": [],
   "source": [
    "(u, p) = TrialFunctions(W)\n",
    "(v, q) = TestFunctions(W)"
   ]
  },
  {
   "cell_type": "code",
   "execution_count": null,
   "id": "a186e5ac",
   "metadata": {},
   "outputs": [],
   "source": [
    "from ufl import nabla_div\n",
    "\n",
    "# Define strain and stress\n",
    "def epsilon(u):\n",
    "    return 0.5*(nabla_grad(u) + nabla_grad(u).T)\n",
    "    #return sym(nabla_grad(u))\n",
    "\n",
    "# Frequency\n",
    "omega = 2*np.pi*1.0\n",
    "    \n",
    "# Physical constants for the solid   \n",
    "rho_fluid = 0.2\n",
    "c = 1.\n",
    "\n",
    "# Physical constants for the solid\n",
    "rho = 1.\n",
    "beta = 1.25\n",
    "lambda_ = beta\n",
    "mu = 1\n",
    "d = u.geometric_dimension()  # space dimension\n",
    "\n",
    "def sigma(u):\n",
    "    return lambda_*nabla_div(u)*Identity(d) + 2*mu*epsilon(u)\n"
   ]
  },
  {
   "cell_type": "markdown",
   "id": "9c123d4f",
   "metadata": {},
   "source": [
    "Definimos la forma bilineal $a((p_F,\\boldsymbol{u}_S),(q_F,\\boldsymbol{v}_S)): $"
   ]
  },
  {
   "cell_type": "code",
   "execution_count": null,
   "id": "5eb08cd6",
   "metadata": {},
   "outputs": [],
   "source": [
    "n = FacetNormal(mesh)\n",
    "\n",
    "# 1 sólido\n",
    "# 2 fluido\n",
    "\n",
    "# 1 frontera empotrada\n",
    "# 2 frontera de compresion\n",
    "# 3 frontera de acoplamiento\n",
    "\n",
    "a = inner(sigma(u), epsilon(v))*dx(1)+1./rho_fluid*inner(grad(p),grad(q))*dx(2) \\\n",
    "    -omega**2*rho*inner(u, v)*dx(1)-omega**2*(1./(rho_fluid*c**2))*p*q*dx(2) \\\n",
    "    - p('+')*inner(v('+'),n('+'))*dS(3) -omega**2*q('+')*inner(u('+'),n('+'))*dS(3)"
   ]
  },
  {
   "cell_type": "markdown",
   "id": "110bc7c7",
   "metadata": {},
   "source": [
    "Definimos la forma lineal L:"
   ]
  },
  {
   "cell_type": "code",
   "execution_count": null,
   "id": "cf3a7b96",
   "metadata": {},
   "outputs": [],
   "source": [
    "T = Constant((0, -1))\n",
    "L = dot(T, v)*ds(2)"
   ]
  },
  {
   "cell_type": "markdown",
   "id": "93370fed",
   "metadata": {},
   "source": [
    "### Condiciones de frontera Dirichlet"
   ]
  },
  {
   "cell_type": "code",
   "execution_count": null,
   "id": "f28f83ab",
   "metadata": {},
   "outputs": [],
   "source": [
    "bc = DirichletBC(W.sub(0), Constant((0, 0)), boundary_markers, 1)"
   ]
  },
  {
   "cell_type": "markdown",
   "id": "476f050c",
   "metadata": {},
   "source": [
    "### Resolución del problema variacional"
   ]
  },
  {
   "cell_type": "code",
   "execution_count": null,
   "id": "577d527e",
   "metadata": {},
   "outputs": [],
   "source": [
    "# Assemble\n",
    "A = assemble(a, keep_diagonal=True)\n",
    "b = assemble(L)\n",
    "\n",
    "# Apply the boundary conditions\n",
    "bc.apply(A)\n",
    "bc.apply(b)\n",
    "\n",
    "# Remove the null rows\n",
    "A.ident_zeros()\n",
    "\n",
    "# Compute solution\n",
    "w = Function(W)\n",
    "solve(A, w.vector(), b)\n",
    "(u,p) = split(w)"
   ]
  },
  {
   "cell_type": "markdown",
   "id": "9dc33316",
   "metadata": {},
   "source": [
    "### Representación de la solución"
   ]
  },
  {
   "cell_type": "code",
   "execution_count": null,
   "id": "4f29b47f",
   "metadata": {},
   "outputs": [],
   "source": [
    "# Plot the Finite Element approximation\n",
    "def plot_solution(u):\n",
    "    '''plot solution of FEM-based simulation'''\n",
    "    fig = plt.figure(figsize=(10,10))\n",
    "    fig = plot(u)\n",
    "    plt.xlabel(r'$x$ / m')\n",
    "    plt.ylabel(r'$y$ / m')\n",
    "    plt.colorbar(fig, fraction=0.038, pad=0.04);\n",
    "    \n",
    "# Plot vector field   \n",
    "plot_solution(u)\n",
    "\n",
    "# Compute magnitude of displacement\n",
    "u_magnitude = sqrt(dot(u, u))\n",
    "Q = FunctionSpace(mesh, 'P', 2)\n",
    "u_magnitude = project(u_magnitude, Q)\n",
    "plot_solution(u_magnitude)"
   ]
  },
  {
   "cell_type": "code",
   "execution_count": null,
   "id": "bd382b1e",
   "metadata": {},
   "outputs": [],
   "source": [
    "# Primera componente del campo de desplazamientos\n",
    "plot_solution(u[0])"
   ]
  },
  {
   "cell_type": "code",
   "execution_count": null,
   "id": "f432a99a",
   "metadata": {},
   "outputs": [],
   "source": [
    "# Segunda componente del campo de desplazamientos\n",
    "plot_solution(u[1])"
   ]
  },
  {
   "cell_type": "code",
   "execution_count": null,
   "id": "02d385a6",
   "metadata": {},
   "outputs": [],
   "source": [
    "# Campo de presiones\n",
    "plot_solution(p) ## Aqui hay algo raro"
   ]
  }
 ],
 "metadata": {
  "kernelspec": {
   "display_name": "Python 3",
   "language": "python",
   "name": "python3"
  },
  "language_info": {
   "codemirror_mode": {
    "name": "ipython",
    "version": 3
   },
   "file_extension": ".py",
   "mimetype": "text/x-python",
   "name": "python",
   "nbconvert_exporter": "python",
   "pygments_lexer": "ipython3",
   "version": "3.9.5"
  }
 },
 "nbformat": 4,
 "nbformat_minor": 5
}
